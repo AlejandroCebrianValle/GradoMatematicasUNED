{
  "nbformat": 4,
  "nbformat_minor": 0,
  "metadata": {
    "colab": {
      "provenance": [],
      "toc_visible": true,
      "authorship_tag": "ABX9TyM7FE0V5kEXZlc96cWlh/mb",
      "include_colab_link": true
    },
    "kernelspec": {
      "name": "python3",
      "display_name": "Python 3"
    },
    "language_info": {
      "name": "python"
    }
  },
  "cells": [
    {
      "cell_type": "markdown",
      "metadata": {
        "id": "view-in-github",
        "colab_type": "text"
      },
      "source": [
        "<a href=\"https://colab.research.google.com/github/AlejandroCebrianValle/GradoMatematicasUNED/blob/main/LenguajesMatematicosConjuntosyNumeros.ipynb\" target=\"_parent\"><img src=\"https://colab.research.google.com/assets/colab-badge.svg\" alt=\"Open In Colab\"/></a>"
      ]
    },
    {
      "cell_type": "markdown",
      "source": [
        "# Nociones de Lógica\n",
        "\n",
        "## Proposiciones\n",
        "\n"
      ],
      "metadata": {
        "id": "bkBp4Ok_BAoW"
      }
    }
  ]
}